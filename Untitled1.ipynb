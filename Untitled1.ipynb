{
 "cells": [
  {
   "cell_type": "markdown",
   "id": "b85bdaed-1e14-4a1f-84d5-57ece0b3fe74",
   "metadata": {},
   "source": [
    "# Data Science Tools and Ecosystem"
   ]
  },
  {
   "cell_type": "markdown",
   "id": "e82c41df-baa2-4b90-9987-8f8ba584cdbf",
   "metadata": {},
   "source": [
    "In this notebook, Data Science Tools and Ecosystem are summarized"
   ]
  },
  {
   "cell_type": "markdown",
   "id": "66c8583b-d8f1-4f4e-98d9-8a0ab94eff81",
   "metadata": {},
   "source": [
    "**Objectives**\n",
    "* List popular languages in Data Science\n",
    "* List commonly used libraries in Data Science\n",
    "* List open source tools used in Data Science\n",
    "* Perform examples of arithmetic expressions"
   ]
  },
  {
   "cell_type": "markdown",
   "id": "3e9b099c-045f-4558-bf32-435e1e0d4e0a",
   "metadata": {},
   "source": [
    "Some of the popular langauages Data Scientists use are:\n",
    "1. Python\n",
    "2. R\n",
    "3. SQL\n",
    "4. Scala\n",
    "5. Java \n",
    "6. C++"
   ]
  }
 ],
 "metadata": {
  "kernelspec": {
   "display_name": "Python",
   "language": "python",
   "name": "conda-env-python-py"
  },
  "language_info": {
   "codemirror_mode": {
    "name": "ipython",
    "version": 3
   },
   "file_extension": ".py",
   "mimetype": "text/x-python",
   "name": "python",
   "nbconvert_exporter": "python",
   "pygments_lexer": "ipython3",
   "version": "3.7.12"
  }
 },
 "nbformat": 4,
 "nbformat_minor": 5
}
